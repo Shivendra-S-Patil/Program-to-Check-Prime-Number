{
 "cells": [
  {
   "cell_type": "code",
   "execution_count": 7,
   "id": "086b3255",
   "metadata": {},
   "outputs": [
    {
     "name": "stdout",
     "output_type": "stream",
     "text": [
      "Enter the Number: 11\n",
      "11 is a Prime Number\n"
     ]
    }
   ],
   "source": [
    "num = int(input(\"Enter the Number: \")) #This line prompts the user to enter a number and converts the input to an integer using int(input()). The entered number is stored in the variable num.\n",
    "\n",
    "if num == 1: # Code checks if the entered number (num) is equal to 1.\n",
    "    print(\"It is not Prime Number\") # If entered num is 1, the code prints a message indicating that 1 is not a prime number.\n",
    "if num >1: #This line checks if the entered number (num) is greater than 1. If it is, the code proceeds to check whether the number is prime or not.\n",
    "    for i in range (2,num): #A for loop is initiated here with the variable i iterating over a range starting from 2 and ending at num.\n",
    "        if num % i == 0: #Within the loop, this line checks if the entered number is divisible by i with no remainder. \n",
    "            print(\"It is not Prime Number\") # If the condition in the previous line is true (meaning num is not prime), the code prints a message indicating that it is not a prime number and then exits the loop using the break statement.\n",
    "            break\n",
    "    else: # If num is only divisible by 1 and itself, making it a prime number. In this case, the code prints a message indicating that num is a prime number.\n",
    "            print(num,\"is a Prime Number\")"
   ]
  },
  {
   "cell_type": "code",
   "execution_count": null,
   "id": "c5662d46",
   "metadata": {},
   "outputs": [],
   "source": []
  }
 ],
 "metadata": {
  "kernelspec": {
   "display_name": "Python 3 (ipykernel)",
   "language": "python",
   "name": "python3"
  },
  "language_info": {
   "codemirror_mode": {
    "name": "ipython",
    "version": 3
   },
   "file_extension": ".py",
   "mimetype": "text/x-python",
   "name": "python",
   "nbconvert_exporter": "python",
   "pygments_lexer": "ipython3",
   "version": "3.9.13"
  }
 },
 "nbformat": 4,
 "nbformat_minor": 5
}
